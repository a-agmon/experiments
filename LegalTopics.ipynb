{
  "nbformat": 4,
  "nbformat_minor": 0,
  "metadata": {
    "colab": {
      "name": "LegalTopics.ipynb",
      "provenance": [],
      "authorship_tag": "ABX9TyNmCO/r7mv+2L/v/6Q5rGAo"
    },
    "kernelspec": {
      "name": "python3",
      "display_name": "Python 3"
    },
    "language_info": {
      "name": "python"
    }
  },
  "cells": [
    {
      "cell_type": "code",
      "metadata": {
        "colab": {
          "base_uri": "https://localhost:8080/"
        },
        "id": "0N-pZxsMrgDW",
        "outputId": "db75383c-7ce3-4eab-b6d0-ee36e1d1cb2e"
      },
      "source": [
        "!pip install tomotopy"
      ],
      "execution_count": 1,
      "outputs": [
        {
          "output_type": "stream",
          "text": [
            "Requirement already satisfied: tomotopy in /usr/local/lib/python3.7/dist-packages (0.12.1)\n",
            "Requirement already satisfied: numpy>=1.11.0 in /usr/local/lib/python3.7/dist-packages (from tomotopy) (1.19.5)\n"
          ],
          "name": "stdout"
        }
      ]
    },
    {
      "cell_type": "code",
      "metadata": {
        "id": "uhDk3YfzlO3u"
      },
      "source": [
        "import pandas as pd\n",
        "import numpy as np\n",
        "import tomotopy as tp\n",
        "import re\n",
        "import os\n",
        "from tqdm import tqdm"
      ],
      "execution_count": 2,
      "outputs": []
    },
    {
      "cell_type": "code",
      "metadata": {
        "colab": {
          "base_uri": "https://localhost:8080/"
        },
        "id": "g2EuYyjZl8oc",
        "outputId": "20b72544-f010-41c5-c5fb-83bcc715c0ee"
      },
      "source": [
        "from google.colab import drive\n",
        "drive.mount('/gdrive')"
      ],
      "execution_count": 3,
      "outputs": [
        {
          "output_type": "stream",
          "text": [
            "Drive already mounted at /gdrive; to attempt to forcibly remount, call drive.mount(\"/gdrive\", force_remount=True).\n"
          ],
          "name": "stdout"
        }
      ]
    },
    {
      "cell_type": "code",
      "metadata": {
        "colab": {
          "base_uri": "https://localhost:8080/"
        },
        "id": "WNDzhFd2ruHg",
        "outputId": "e959fe94-b8dc-487e-b26d-6db4c2d0fa83"
      },
      "source": [
        "os.listdir('/gdrive/My Drive/court_files')"
      ],
      "execution_count": 4,
      "outputs": [
        {
          "output_type": "execute_result",
          "data": {
            "text/plain": [
              "['פרטיות ',\n",
              " 'חוזי שכירות  שלום ומחוזי',\n",
              " 'ירושה ',\n",
              " 'מקרקעין מעל 10 עמודים שלום ומחוזי']"
            ]
          },
          "metadata": {
            "tags": []
          },
          "execution_count": 4
        }
      ]
    },
    {
      "cell_type": "code",
      "metadata": {
        "id": "o_XsOzXrrV66"
      },
      "source": [
        "m_corpus = tp.utils.Corpus()\n",
        "\n",
        "topic_dirs = os.listdir('/gdrive/My Drive/court_files')\n",
        "\n",
        "for topic_dir in topic_dirs:\n",
        "    \n",
        "    files = [os.path.abspath(f'/gdrive/My Drive/court_files/{topic_dir}/{file}') \n",
        "               for file in os.listdir(f'/gdrive/My Drive/court_files/{topic_dir}')]\n",
        "    \n",
        "    for raw_file in files:\n",
        "        with open(raw_file) as input_f:\n",
        "            file_txt = input_f.read()\n",
        "            clean_txt = re.sub(r'[\\W\\d]+', ' ', file_txt)\n",
        "            m_corpus.add_doc([s for s in clean_txt.split() if len(s) > 3], labels=[topic_dir])"
      ],
      "execution_count": 5,
      "outputs": []
    },
    {
      "cell_type": "code",
      "metadata": {
        "colab": {
          "base_uri": "https://localhost:8080/"
        },
        "id": "Ic4uS4fmt3FP",
        "outputId": "f93c7d99-c3d7-4799-8e4c-8f59625488ff"
      },
      "source": [
        "# low alpha larger mixture of topics per doc \n",
        "\n",
        "plda = tp.PLDAModel(\n",
        "    min_cf=10,\n",
        "    min_df=3,\n",
        "    rm_top=5,\n",
        "    topics_per_label=1,\n",
        "    latent_topics=0,\n",
        "alpha = 0.2)\n",
        "\n",
        "plda.add_corpus(m_corpus)\n",
        "\n",
        "for i in range(0, 200, 20):\n",
        "    plda.train(20)\n",
        "    print('Iteration: {}\\tLog-likelihood: {}'.format(i, plda.ll_per_word))"
      ],
      "execution_count": 23,
      "outputs": [
        {
          "output_type": "stream",
          "text": [
            "Iteration: 0\tLog-likelihood: -8.573022432364958\n",
            "Iteration: 20\tLog-likelihood: -8.573022186502099\n",
            "Iteration: 40\tLog-likelihood: -8.573022187440074\n",
            "Iteration: 60\tLog-likelihood: -8.573022188264353\n",
            "Iteration: 80\tLog-likelihood: -8.57302218741165\n",
            "Iteration: 100\tLog-likelihood: -8.573022187383227\n",
            "Iteration: 120\tLog-likelihood: -8.573022188264353\n",
            "Iteration: 140\tLog-likelihood: -8.573022187383227\n",
            "Iteration: 160\tLog-likelihood: -8.573022177321324\n",
            "Iteration: 180\tLog-likelihood: -8.573022187496921\n"
          ],
          "name": "stdout"
        }
      ]
    },
    {
      "cell_type": "code",
      "metadata": {
        "id": "yNMQULvOl8od"
      },
      "source": [
        "test = 'למרות שבחוזה השכירות שלי היה כתוב שהאחריות היא על הבעלים  הצינור נשבר והוא ביקש ממני לשלם'\n",
        "\n",
        "test2 = 'פורסמה כתבה ובה נטען כי אני מרמה את הלקוחות שלי, הדבר הוא שקר'\n",
        "\n",
        "test3 = 'אמא שלי כתבה צוואה ולא הזכירה את השכן'\n",
        "\n",
        "test4 = 'הדירה רשומה אצלי בטאבו ואני לא מצליח להעביר את הזכויות'\n",
        "\n",
        "inferred_corpus, ll = plda.infer([\n",
        "    plda.make_doc(words=text.split()) for text in [test, test2, test3, test4]\n",
        "])"
      ],
      "execution_count": 24,
      "outputs": []
    },
    {
      "cell_type": "code",
      "metadata": {
        "colab": {
          "base_uri": "https://localhost:8080/",
          "height": 175
        },
        "id": "pFdcJ3pBwCyW",
        "outputId": "91829713-9884-4e22-85fd-d64933ff8ceb"
      },
      "source": [
        "pd.options.display.float_format = '{:.2%}'.format\n",
        "\n",
        "pd.DataFrame(inferred_corpus, columns=plda.topic_label_dict)"
      ],
      "execution_count": 25,
      "outputs": [
        {
          "output_type": "execute_result",
          "data": {
            "text/html": [
              "<div>\n",
              "<style scoped>\n",
              "    .dataframe tbody tr th:only-of-type {\n",
              "        vertical-align: middle;\n",
              "    }\n",
              "\n",
              "    .dataframe tbody tr th {\n",
              "        vertical-align: top;\n",
              "    }\n",
              "\n",
              "    .dataframe thead th {\n",
              "        text-align: right;\n",
              "    }\n",
              "</style>\n",
              "<table border=\"1\" class=\"dataframe\">\n",
              "  <thead>\n",
              "    <tr style=\"text-align: right;\">\n",
              "      <th></th>\n",
              "      <th>פרטיות</th>\n",
              "      <th>חוזי שכירות  שלום ומחוזי</th>\n",
              "      <th>ירושה</th>\n",
              "      <th>מקרקעין מעל 10 עמודים שלום ומחוזי</th>\n",
              "    </tr>\n",
              "  </thead>\n",
              "  <tbody>\n",
              "    <tr>\n",
              "      <th>0</th>\n",
              "      <td>0.03%</td>\n",
              "      <td>99.89%</td>\n",
              "      <td>0.04%</td>\n",
              "      <td>0.05%</td>\n",
              "    </tr>\n",
              "    <tr>\n",
              "      <th>1</th>\n",
              "      <td>0.04%</td>\n",
              "      <td>0.06%</td>\n",
              "      <td>0.05%</td>\n",
              "      <td>99.85%</td>\n",
              "    </tr>\n",
              "    <tr>\n",
              "      <th>2</th>\n",
              "      <td>0.08%</td>\n",
              "      <td>0.12%</td>\n",
              "      <td>99.68%</td>\n",
              "      <td>0.12%</td>\n",
              "    </tr>\n",
              "    <tr>\n",
              "      <th>3</th>\n",
              "      <td>0.03%</td>\n",
              "      <td>99.89%</td>\n",
              "      <td>0.04%</td>\n",
              "      <td>0.05%</td>\n",
              "    </tr>\n",
              "  </tbody>\n",
              "</table>\n",
              "</div>"
            ],
            "text/plain": [
              "   פרטיות   חוזי שכירות  שלום ומחוזי  ירושה   מקרקעין מעל 10 עמודים שלום ומחוזי\n",
              "0    0.03%                    99.89%   0.04%                              0.05%\n",
              "1    0.04%                     0.06%   0.05%                             99.85%\n",
              "2    0.08%                     0.12%  99.68%                              0.12%\n",
              "3    0.03%                    99.89%   0.04%                              0.05%"
            ]
          },
          "metadata": {
            "tags": []
          },
          "execution_count": 25
        }
      ]
    },
    {
      "cell_type": "code",
      "metadata": {
        "id": "ef6flKieutNt"
      },
      "source": [
        ""
      ],
      "execution_count": null,
      "outputs": []
    }
  ]
}